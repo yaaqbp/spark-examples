{
 "cells": [
  {
   "cell_type": "code",
   "execution_count": 1,
   "id": "467fcc3e-4cfa-4923-9bf8-be9aa29395f7",
   "metadata": {},
   "outputs": [],
   "source": [
    "from sparktorch import SparkTorch, serialize_torch_obj\n",
    "from pyspark.sql import SparkSession\n",
    "from pyspark.ml.feature import VectorAssembler\n",
    "from pyspark.sql.functions import rand\n",
    "from pyspark.ml.pipeline import Pipeline\n",
    "import torch\n",
    "import torch.nn as nn"
   ]
  },
  {
   "cell_type": "code",
   "execution_count": 2,
   "id": "b146b157-2637-48c8-81bb-3713d8d459d8",
   "metadata": {},
   "outputs": [
    {
     "name": "stderr",
     "output_type": "stream",
     "text": [
      "Setting default log level to \"WARN\".\n",
      "To adjust logging level use sc.setLogLevel(newLevel). For SparkR, use setLogLevel(newLevel).\n",
      "23/11/20 12:07:32 WARN SparkConf: Note that spark.local.dir will be overridden by the value set by the cluster manager (via SPARK_LOCAL_DIRS in mesos/standalone/kubernetes and LOCAL_DIRS in YARN).\n"
     ]
    }
   ],
   "source": [
    "spark = SparkSession.builder \\\n",
    "    .appName(\"SparkTorchTest\")\\\n",
    "    .config(\"spark.executor.instances\", \"2\") \\\n",
    "    .config(\"spark.executor.memory\", \"30G\") \\\n",
    "    .config(\"spark.executor.cores\", \"24\") \\\n",
    "    .config(\"spark.executor.cores.max\", \"24\") \\\n",
    "    .config(\"spark.driver.memory\", \"20G\") \\\n",
    "    .config(\"spark.dynamicAllocation.enabled\", False) \\\n",
    "    .master(\"spark://10.21.24.101:7077\") \\\n",
    "    .getOrCreate()"
   ]
  },
  {
   "cell_type": "code",
   "execution_count": 3,
   "id": "24d580ed-f277-4831-98c4-862eb9409a63",
   "metadata": {},
   "outputs": [
    {
     "name": "stderr",
     "output_type": "stream",
     "text": [
      "                                                                                \r"
     ]
    }
   ],
   "source": [
    "# Read in mnist_train.csv dataset\n",
    "df = spark.read.option(\"inferSchema\", \"true\").csv('mnist_train.csv').orderBy(rand()).repartition(2)"
   ]
  },
  {
   "cell_type": "code",
   "execution_count": 4,
   "id": "dd5951c5-6771-49d0-8ecf-50a9bd0aacec",
   "metadata": {},
   "outputs": [],
   "source": [
    "df = df.selectExpr([f\"cast({col_name} as double) as {col_name}\" for col_name in df.columns])"
   ]
  },
  {
   "cell_type": "code",
   "execution_count": 9,
   "id": "c9aa5740-7edb-42d8-b911-c334cd749c43",
   "metadata": {},
   "outputs": [],
   "source": [
    "df = df.na.drop()"
   ]
  },
  {
   "cell_type": "code",
   "execution_count": 11,
   "id": "559558a5-e6c9-4f32-8215-17b4c4257fa6",
   "metadata": {},
   "outputs": [
    {
     "name": "stderr",
     "output_type": "stream",
     "text": [
      "                                                                                \r"
     ]
    }
   ],
   "source": [
    "# Create a simple neural network\n",
    "network = nn.Sequential(\n",
    "    nn.Linear(784, 256),\n",
    "    nn.ReLU(),\n",
    "    nn.Linear(256, 256),\n",
    "    nn.ReLU(),\n",
    "    nn.Linear(256, 10)\n",
    ")\n",
    "\n",
    "# Build the pytorch object\n",
    "torch_obj = serialize_torch_obj(\n",
    "    model=network,\n",
    "    criterion=nn.CrossEntropyLoss(),\n",
    "    optimizer=torch.optim.Adam,\n",
    "    lr=0.001\n",
    ")\n",
    "\n",
    "# Setup features (In this csv, the label is the first column)\n",
    "vector_assembler = VectorAssembler(inputCols=df.columns[1:785], outputCol='features')\n",
    "\n",
    "# Setup a SparkTorch model for training\n",
    "# Note: This uses the barrier execution mode, which is sensitive to the number of partitions\n",
    "spark_model = SparkTorch(\n",
    "    inputCol='features',\n",
    "    labelCol='_c0',\n",
    "    torchObj=torch_obj,\n",
    "    iters=1000,\n",
    "    miniBatch=256, # Setup internal mini batch size\n",
    "    earlyStopPatience=40, # Add early stopping based on validation loss\n",
    "    validationPct=0.2 # add validation percentage\n",
    ")\n",
    "\n",
    "# Create and save the Pipeline\n",
    "model = Pipeline(stages=[vector_assembler, spark_model]).fit(df)"
   ]
  },
  {
   "cell_type": "code",
   "execution_count": 12,
   "id": "fee75fad-16df-45a7-af53-ab69a07a08a1",
   "metadata": {},
   "outputs": [
    {
     "name": "stderr",
     "output_type": "stream",
     "text": [
      "23/11/20 12:16:47 WARN TaskSetManager: Stage 32 contains a task of very large size (3849 KiB). The maximum recommended task size is 1000 KiB.\n"
     ]
    }
   ],
   "source": [
    "model.save('sparktorch_mnist_model')"
   ]
  }
 ],
 "metadata": {
  "kernelspec": {
   "display_name": "Python 3 (ipykernel)",
   "language": "python",
   "name": "python3"
  },
  "language_info": {
   "codemirror_mode": {
    "name": "ipython",
    "version": 3
   },
   "file_extension": ".py",
   "mimetype": "text/x-python",
   "name": "python",
   "nbconvert_exporter": "python",
   "pygments_lexer": "ipython3",
   "version": "3.9.16"
  }
 },
 "nbformat": 4,
 "nbformat_minor": 5
}
