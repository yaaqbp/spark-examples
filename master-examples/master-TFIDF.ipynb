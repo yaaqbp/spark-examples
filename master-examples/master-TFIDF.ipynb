{
 "cells": [
  {
   "cell_type": "code",
   "execution_count": 32,
   "id": "ec647572-14d5-4045-86ae-89f6e063e262",
   "metadata": {},
   "outputs": [],
   "source": [
    "import pandas as pd\n",
    "from tqdm import tqdm\n",
    "tqdm.pandas()\n",
    "from sklearn.feature_extraction.text import TfidfVectorizer"
   ]
  },
  {
   "cell_type": "code",
   "execution_count": 33,
   "id": "ee74b62e-d161-4f59-aca9-08327eafb299",
   "metadata": {},
   "outputs": [
    {
     "name": "stdout",
     "output_type": "stream",
     "text": [
      "CPU times: user 16.8 s, sys: 1.14 s, total: 18 s\n",
      "Wall time: 18 s\n"
     ]
    }
   ],
   "source": [
    "%%time\n",
    "df = pd.DataFrame()\n",
    "for i in range(1, 25):\n",
    "    df = pd.concat([df, pd.read_csv(f'data/arxiv-lemmatized_preprocessed_NLTK_{i}.csv')])\n",
    "df.processed_text = df.processed_text.astype(str)\n",
    "agg_df = df.groupby('categories')['processed_text'].agg(lambda x: ' '.join(x)).reset_index()\n"
   ]
  },
  {
   "cell_type": "code",
   "execution_count": 34,
   "id": "39798912-0a52-40a4-baa8-468ebc4136ec",
   "metadata": {},
   "outputs": [],
   "source": [
    "# Function to extract keywords with scoring using TF-IDF\n",
    "def extract_keywords_with_scores(text):\n",
    "    vectorizer = TfidfVectorizer(stop_words='english')\n",
    "    tfidf_matrix = vectorizer.fit_transform([text])\n",
    "    feature_names = vectorizer.get_feature_names_out()\n",
    "    dense = tfidf_matrix.todense().tolist()[0]\n",
    "    \n",
    "    # Create a list of tuples with (word, score)\n",
    "    keyword_scores = list(zip(feature_names, dense))\n",
    "    \n",
    "    # Sort the list by TF-IDF score in descending order\n",
    "    keyword_scores = sorted(keyword_scores, key=lambda x: x[1], reverse=True)\n",
    "\n",
    "    # Extract the top 10 keywords with their scores\n",
    "    top_keywords = keyword_scores[:10]\n",
    "    \n",
    "    return top_keywords\n",
    "\n",
    "# "
   ]
  },
  {
   "cell_type": "code",
   "execution_count": 35,
   "id": "b4e0ecf7-fb75-49a3-a320-5a8afc4cbab2",
   "metadata": {},
   "outputs": [
    {
     "name": "stderr",
     "output_type": "stream",
     "text": [
      "100%|████████████████████████████████████████████████████████████████████| 149/149 [01:06<00:00,  2.25it/s]"
     ]
    },
    {
     "name": "stdout",
     "output_type": "stream",
     "text": [
      "CPU times: user 1min 4s, sys: 1.72 s, total: 1min 6s\n",
      "Wall time: 1min 6s\n"
     ]
    },
    {
     "name": "stderr",
     "output_type": "stream",
     "text": [
      "\n"
     ]
    }
   ],
   "source": [
    "%%time\n",
    "agg_df['keywords_with_scores'] = agg_df['processed_text'].progress_apply(extract_keywords_with_scores)\n",
    "\n",
    "# Display the DataFrame with keywords and scores\n"
   ]
  },
  {
   "cell_type": "code",
   "execution_count": 36,
   "id": "2770ccd8-21c7-4e24-a094-6a8d3cfb8c96",
   "metadata": {},
   "outputs": [
    {
     "name": "stdout",
     "output_type": "stream",
     "text": [
      "CPU times: user 10.4 ms, sys: 1.87 ms, total: 12.3 ms\n",
      "Wall time: 10.9 ms\n"
     ]
    }
   ],
   "source": [
    "%%time\n",
    "df_exploded = agg_df.drop(columns = 'processed_text').explode('keywords_with_scores')\n",
    "\n",
    "# Create separate 'keyword' and 'score' columns\n",
    "df_exploded[['keyword', 'score']] = pd.DataFrame(df_exploded['keywords_with_scores'].tolist(), index=df_exploded.index)\n",
    "\n",
    "# Drop the original 'keywords_with_scores' column\n",
    "df_exploded = df_exploded.drop('keywords_with_scores', axis=1).reset_index(drop = True)\n",
    "df_exploded.to_csv('data/master_TFIDF_scoring.csv', index = False)"
   ]
  }
 ],
 "metadata": {
  "kernelspec": {
   "display_name": "Python 3 (ipykernel)",
   "language": "python",
   "name": "python3"
  },
  "language_info": {
   "codemirror_mode": {
    "name": "ipython",
    "version": 3
   },
   "file_extension": ".py",
   "mimetype": "text/x-python",
   "name": "python",
   "nbconvert_exporter": "python",
   "pygments_lexer": "ipython3",
   "version": "3.9.16"
  }
 },
 "nbformat": 4,
 "nbformat_minor": 5
}
