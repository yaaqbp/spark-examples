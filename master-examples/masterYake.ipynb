{
 "cells": [
  {
   "cell_type": "code",
   "execution_count": 59,
   "id": "1c7c380d-1658-4c63-9e29-75d539cdf636",
   "metadata": {},
   "outputs": [],
   "source": [
    "#The lower the score, the more relevant the keyword is."
   ]
  },
  {
   "cell_type": "code",
   "execution_count": 1,
   "id": "70224c06-41ab-4776-9bf1-9ade57431735",
   "metadata": {},
   "outputs": [],
   "source": [
    "import pandas as pd\n",
    "import spacy\n",
    "from spacy.lang.en.stop_words import STOP_WORDS #import commen list of stopword\n",
    "import en_core_web_sm\n",
    "import string\n",
    "from tqdm import tqdm\n",
    "tqdm.pandas()\n",
    "import time\n",
    "import yake"
   ]
  },
  {
   "cell_type": "code",
   "execution_count": 2,
   "id": "63d82433-9669-4ab9-a4d2-8386eba3b5be",
   "metadata": {},
   "outputs": [
    {
     "name": "stdout",
     "output_type": "stream",
     "text": [
      "1\n",
      "2\n",
      "3\n",
      "4\n",
      "5\n",
      "6\n",
      "7\n",
      "8\n",
      "9\n",
      "10\n",
      "11\n",
      "12\n",
      "13\n",
      "14\n",
      "15\n",
      "16\n",
      "17\n",
      "18\n",
      "19\n",
      "20\n",
      "21\n",
      "22\n",
      "23\n",
      "24\n",
      "CPU times: user 1min 46s, sys: 3.45 s, total: 1min 49s\n",
      "Wall time: 1min 49s\n"
     ]
    }
   ],
   "source": [
    "%%time \n",
    "chunks = pd.read_json('data/arxiv-metadata-oai-snapshot.json', lines=True, chunksize = 100000)\n",
    "df = pd.DataFrame()\n",
    "for idx, chunk in enumerate(chunks):\n",
    "    print(idx + 1)\n",
    "    df = pd.concat([df,chunk[['id', 'categories','abstract']]])"
   ]
  },
  {
   "cell_type": "code",
   "execution_count": 4,
   "id": "6666b53e-e95a-436e-97ad-c3258b0b44f8",
   "metadata": {},
   "outputs": [],
   "source": [
    "df = df[~df['categories'].str.contains(r'\\s')]\n",
    "df.abstract = df.abstract.astype(str)"
   ]
  },
  {
   "cell_type": "code",
   "execution_count": 17,
   "id": "a46a164d-9978-4851-a486-2463cc2460cb",
   "metadata": {},
   "outputs": [],
   "source": [
    "\n",
    "agg_df = df.groupby('categories')['abstract'].agg(lambda x: ' '.join(x)).reset_index()"
   ]
  },
  {
   "cell_type": "code",
   "execution_count": 20,
   "id": "9dcf7ea0-9de4-442c-9112-c07da4a6a23b",
   "metadata": {},
   "outputs": [],
   "source": [
    "kw_extractor = yake.KeywordExtractor(top=10)\n",
    "keywords = kw_extractor.extract_keywords(df.abstract[0])\n"
   ]
  },
  {
   "cell_type": "code",
   "execution_count": 18,
   "id": "e6737f0f-2ff0-4bee-b712-f384aa0475ad",
   "metadata": {},
   "outputs": [],
   "source": [
    "agg_df = df.groupby('categories')['abstract'].agg(lambda x: ' '.join(x)).reset_index()"
   ]
  },
  {
   "cell_type": "code",
   "execution_count": null,
   "id": "ae868240-d3e2-4345-80bb-e22bdf3d644b",
   "metadata": {},
   "outputs": [],
   "source": [
    "agg_df['keywords'] = agg_df.abstract.progess_apply(lambda x: kw_extractor.extract_keywords(x.lower()))"
   ]
  },
  {
   "cell_type": "code",
   "execution_count": 24,
   "id": "70d1ff10-5048-4392-a9c3-8c2c17021b41",
   "metadata": {},
   "outputs": [
    {
     "data": {
      "text/html": [
       "<div>\n",
       "<style scoped>\n",
       "    .dataframe tbody tr th:only-of-type {\n",
       "        vertical-align: middle;\n",
       "    }\n",
       "\n",
       "    .dataframe tbody tr th {\n",
       "        vertical-align: top;\n",
       "    }\n",
       "\n",
       "    .dataframe thead th {\n",
       "        text-align: right;\n",
       "    }\n",
       "</style>\n",
       "<table border=\"1\" class=\"dataframe\">\n",
       "  <thead>\n",
       "    <tr style=\"text-align: right;\">\n",
       "      <th></th>\n",
       "      <th>categories</th>\n",
       "      <th>abstract</th>\n",
       "    </tr>\n",
       "  </thead>\n",
       "  <tbody>\n",
       "    <tr>\n",
       "      <th>0</th>\n",
       "      <td>astro-ph</td>\n",
       "      <td>We discuss the results from the combined IRA...</td>\n",
       "    </tr>\n",
       "    <tr>\n",
       "      <th>1</th>\n",
       "      <td>astro-ph.CO</td>\n",
       "      <td>We consider Brans-Dicke type nonminimally co...</td>\n",
       "    </tr>\n",
       "    <tr>\n",
       "      <th>2</th>\n",
       "      <td>astro-ph.EP</td>\n",
       "      <td>We report on the discovery of HAT-P-11b, the...</td>\n",
       "    </tr>\n",
       "    <tr>\n",
       "      <th>3</th>\n",
       "      <td>astro-ph.GA</td>\n",
       "      <td>The magnetic fields of our Milky Way galaxy ...</td>\n",
       "    </tr>\n",
       "    <tr>\n",
       "      <th>4</th>\n",
       "      <td>astro-ph.HE</td>\n",
       "      <td>We have analyzed 866 RXTE observations of th...</td>\n",
       "    </tr>\n",
       "    <tr>\n",
       "      <th>...</th>\n",
       "      <td>...</td>\n",
       "      <td>...</td>\n",
       "    </tr>\n",
       "    <tr>\n",
       "      <th>144</th>\n",
       "      <td>stat.AP</td>\n",
       "      <td>The paper deals with the study of labor mark...</td>\n",
       "    </tr>\n",
       "    <tr>\n",
       "      <th>145</th>\n",
       "      <td>stat.CO</td>\n",
       "      <td>The problem of the definition and the estima...</td>\n",
       "    </tr>\n",
       "    <tr>\n",
       "      <th>146</th>\n",
       "      <td>stat.ME</td>\n",
       "      <td>This paper considers the issue of modeling f...</td>\n",
       "    </tr>\n",
       "    <tr>\n",
       "      <th>147</th>\n",
       "      <td>stat.ML</td>\n",
       "      <td>We consider the problem of binary classifica...</td>\n",
       "    </tr>\n",
       "    <tr>\n",
       "      <th>148</th>\n",
       "      <td>stat.OT</td>\n",
       "      <td>This book presents our case in defense of a ...</td>\n",
       "    </tr>\n",
       "  </tbody>\n",
       "</table>\n",
       "<p>149 rows × 2 columns</p>\n",
       "</div>"
      ],
      "text/plain": [
       "      categories                                           abstract\n",
       "0       astro-ph    We discuss the results from the combined IRA...\n",
       "1    astro-ph.CO    We consider Brans-Dicke type nonminimally co...\n",
       "2    astro-ph.EP    We report on the discovery of HAT-P-11b, the...\n",
       "3    astro-ph.GA    The magnetic fields of our Milky Way galaxy ...\n",
       "4    astro-ph.HE    We have analyzed 866 RXTE observations of th...\n",
       "..           ...                                                ...\n",
       "144      stat.AP    The paper deals with the study of labor mark...\n",
       "145      stat.CO    The problem of the definition and the estima...\n",
       "146      stat.ME    This paper considers the issue of modeling f...\n",
       "147      stat.ML    We consider the problem of binary classifica...\n",
       "148      stat.OT    This book presents our case in defense of a ...\n",
       "\n",
       "[149 rows x 2 columns]"
      ]
     },
     "execution_count": 24,
     "metadata": {},
     "output_type": "execute_result"
    }
   ],
   "source": [
    "agg_df.drop(columns = 'abstract').to_csv('data/masterYakeKeywords.csv', index = False)"
   ]
  },
  {
   "cell_type": "code",
   "execution_count": null,
   "id": "6a731c10-f26c-45da-b49a-3b0beb7a9378",
   "metadata": {},
   "outputs": [],
   "source": []
  }
 ],
 "metadata": {
  "kernelspec": {
   "display_name": "Python 3 (ipykernel)",
   "language": "python",
   "name": "python3"
  },
  "language_info": {
   "codemirror_mode": {
    "name": "ipython",
    "version": 3
   },
   "file_extension": ".py",
   "mimetype": "text/x-python",
   "name": "python",
   "nbconvert_exporter": "python",
   "pygments_lexer": "ipython3",
   "version": "3.9.16"
  }
 },
 "nbformat": 4,
 "nbformat_minor": 5
}
